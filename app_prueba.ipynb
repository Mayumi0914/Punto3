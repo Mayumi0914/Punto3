{
 "cells": [
  {
   "cell_type": "code",
   "execution_count": 5,
   "metadata": {},
   "outputs": [],
   "source": [
    "import requests"
   ]
  },
  {
   "cell_type": "code",
   "execution_count": 6,
   "metadata": {},
   "outputs": [
    {
     "name": "stdout",
     "output_type": "stream",
     "text": [
      "200\n",
      "{'predictions': [634, 436, 434, 559, 576, 544, 509, 490, 532, 467, 471, 373, 468, 438, 432, 494, 466, 540, 506, 616, 473, 364, 449, 357, 375, 535, 481, 495, 483, 505, 551, 450, 514, 492, 400, 478, 460, 431, 534, 465, 571, 439, 590, 633, 360, 450, 409, 483, 680, 384, 495, 453, 626, 633, 567, 364, 623, 601, 491, 495, 309, 451, 334, 477, 641, 495, 597, 415, 482, 459, 363, 496, 580, 559, 530]}\n"
     ]
    }
   ],
   "source": [
    "# Definir endpoint\n",
    "url = 'http://127.0.0.1:8000/upload-excel'\n",
    "\n",
    "# Definir path del Excel\n",
    "file_path = \"prueba_APP.xlsx\"\n",
    "files = {\"file\": open(file_path, \"rb\")}\n",
    "\n",
    "# Hacer la solicitud POST\n",
    "response = requests.post(url=url, files=files)\n",
    "\n",
    "# Verificar el código de estado y la respuesta\n",
    "print(response.status_code)\n",
    "if response.status_code == 200:\n",
    "    print(response.json())\n",
    "else:\n",
    "    print(\"Error en la solicitud:\", response.text)\n"
   ]
  }
 ],
 "metadata": {
  "kernelspec": {
   "display_name": "myenv",
   "language": "python",
   "name": "python3"
  },
  "language_info": {
   "codemirror_mode": {
    "name": "ipython",
    "version": 3
   },
   "file_extension": ".py",
   "mimetype": "text/x-python",
   "name": "python",
   "nbconvert_exporter": "python",
   "pygments_lexer": "ipython3",
   "version": "3.10.11"
  }
 },
 "nbformat": 4,
 "nbformat_minor": 2
}
